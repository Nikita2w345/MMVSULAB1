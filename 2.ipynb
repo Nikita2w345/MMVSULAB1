{
  "nbformat": 4,
  "nbformat_minor": 0,
  "metadata": {
    "colab": {
      "provenance": [],
      "authorship_tag": "ABX9TyNx25AUGtRnzVtNU0UuDl5S",
      "include_colab_link": true
    },
    "kernelspec": {
      "name": "python3",
      "display_name": "Python 3"
    },
    "language_info": {
      "name": "python"
    }
  },
  "cells": [
    {
      "cell_type": "markdown",
      "metadata": {
        "id": "view-in-github",
        "colab_type": "text"
      },
      "source": [
        "<a href=\"https://colab.research.google.com/github/Nikita2w345/MMVSULAB1/blob/main/2.ipynb\" target=\"_parent\"><img src=\"https://colab.research.google.com/assets/colab-badge.svg\" alt=\"Open In Colab\"/></a>"
      ]
    },
    {
      "cell_type": "code",
      "execution_count": 1,
      "metadata": {
        "colab": {
          "base_uri": "https://localhost:8080/"
        },
        "id": "qKCY5jPCn2Lm",
        "outputId": "6fa27fd8-a9f1-4810-f743-db960134c36b"
      },
      "outputs": [
        {
          "output_type": "stream",
          "name": "stdout",
          "text": [
            "    years  population\n",
            "0    1615        7000\n",
            "1    1626        2000\n",
            "2    1676        5000\n",
            "3    1777       13000\n",
            "4    1811       22100\n",
            "..    ...         ...\n",
            "59   2017     1039801\n",
            "60   2018     1047549\n",
            "61   2019     1054111\n",
            "62   2020     1058261\n",
            "63   2021     1057681\n",
            "\n",
            "[64 rows x 2 columns]\n"
          ]
        }
      ],
      "source": [
        "import numpy as np\n",
        "import pandas as pd\n",
        "url = 'https://raw.githubusercontent.com/Nikita2w345/MMVSULAB1/main/Voronezh.csv'\n",
        "df = pd.read_csv(url)\n",
        "print(df)\n",
        "years = np.array(df['years'])\n",
        "population= np.array(df['population'])"
      ]
    }
  ]
}