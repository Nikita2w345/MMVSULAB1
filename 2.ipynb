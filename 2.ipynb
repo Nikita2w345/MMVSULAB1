{
  "nbformat": 4,
  "nbformat_minor": 0,
  "metadata": {
    "colab": {
      "provenance": [],
      "authorship_tag": "ABX9TyNx25AUGtRnzVtNU0UuDl5S",
      "include_colab_link": true
    },
    "kernelspec": {
      "name": "python3",
      "display_name": "Python 3"
    },
    "language_info": {
      "name": "python"
    }
  },
  "cells": [
    {
      "cell_type": "markdown",
      "metadata": {
        "id": "view-in-github",
        "colab_type": "text"
      },
      "source": [
        "<a href=\"https://colab.research.google.com/github/Nikita2w345/MMVSULAB1/blob/main/2.ipynb\" target=\"_parent\"><img src=\"https://colab.research.google.com/assets/colab-badge.svg\" alt=\"Open In Colab\"/></a>"
      ]
    },
    {
      "cell_type": "code",
      "execution_count": null,
      "metadata": {
        "colab": {
          "base_uri": "https://localhost:8080/"
        },
        "id": "qKCY5jPCn2Lm",
        "outputId": "ea06a5dc-faf2-4c72-96b6-dab0bd1089d2"
      },
      "outputs": [
        {
          "output_type": "stream",
          "name": "stdout",
          "text": [
            "    years  population\n",
            "0    2003      849800\n",
            "1    2005      846300\n",
            "2    2009      843496\n",
            "3    2010      847620\n",
            "4    2011      991269\n",
            "5    2012      100350\n",
            "6    2013     1014610\n",
            "7    2014     1023570\n",
            "8    2015     1032895\n",
            "9    2016     1032895\n",
            "10   2017     1039801\n",
            "11   2018     1047549\n",
            "12   2019     1054111\n",
            "13   2020     1058261\n",
            "14   2021     1050602\n",
            "15   2022     1048738\n"
          ]
        }
      ],
      "source": [
        "import numpy as np\n",
        "import pandas as pd\n",
        "url = 'https://raw.githubusercontent.com/Nikita2w345/MMVSULAB1/main/Voronezh.csv'\n",
        "df = pd.read_csv(url)\n",
        "print(df)\n",
        "years = np.array(df['years'])\n",
        "population= np.array(df['population'])"
      ]
    }
  ]
}