{
  "nbformat": 4,
  "nbformat_minor": 0,
  "metadata": {
    "colab": {
      "provenance": [],
      "authorship_tag": "ABX9TyOXWL+eqE33JMgpzuPYAnPm",
      "include_colab_link": true
    },
    "kernelspec": {
      "name": "python3",
      "display_name": "Python 3"
    },
    "language_info": {
      "name": "python"
    }
  },
  "cells": [
    {
      "cell_type": "markdown",
      "metadata": {
        "id": "view-in-github",
        "colab_type": "text"
      },
      "source": [
        "<a href=\"https://colab.research.google.com/github/Nikita2w345/MMVSULAB1/blob/main/1.ipynb\" target=\"_parent\"><img src=\"https://colab.research.google.com/assets/colab-badge.svg\" alt=\"Open In Colab\"/></a>"
      ]
    },
    {
      "cell_type": "code",
      "execution_count": null,
      "metadata": {
        "id": "HgRG1ShbefSn"
      },
      "outputs": [],
      "source": []
    },
    {
      "cell_type": "markdown",
      "source": [],
      "metadata": {
        "id": "-ZXPQXDDfV-r"
      }
    },
    {
      "cell_type": "markdown",
      "source": [
        "# Лабораторная работа №1"
      ],
      "metadata": {
        "id": "JIj3u6NXei8f"
      }
    },
    {
      "cell_type": "markdown",
      "source": [
        "Выполнил студент 4 курса группы КМА Свиридов Никита"
      ],
      "metadata": {
        "id": "RlhRMT3verYD"
      }
    },
    {
      "cell_type": "code",
      "source": [
        "#Задание 1"
      ],
      "metadata": {
        "id": "xJbot6yfe1Bt"
      },
      "execution_count": null,
      "outputs": []
    },
    {
      "cell_type": "code",
      "source": [
        "import matplotlib.pyplot as plt\n",
        "import numpy as np\n",
        "from scipy.integrate import odeint\n",
        "#Определяем функцию, задающую значения параметрам ДУ, определяем вид ДУ\n",
        "def dydt(x,t):\n",
        "  k = 0.42\n",
        "  return k*x\n",
        "#Создаём область построения  \n",
        "t = np.linspace(0,10,100)\n",
        "#Решаем ДУ c помощью функции solve\n",
        "solve = odeint(dydt, 1, t=t)\n",
        "solve = solve.flatten()\n",
        "#Строим математическую модель населения Земли\n",
        "%matplotlib inline\n",
        "\n",
        "plt.plot(t, solve, label = r\"\")\n",
        "plt.grid(True)\n",
        "plt.legend()\n",
        "plt.show()\n",
        "     "
      ],
      "metadata": {
        "colab": {
          "base_uri": "https://localhost:8080/",
          "height": 302
        },
        "id": "ujAgBhkSfBvH",
        "outputId": "8ff38220-5be2-4ada-c59c-fa756820b227"
      },
      "execution_count": null,
      "outputs": [
        {
          "output_type": "stream",
          "name": "stderr",
          "text": [
            "WARNING:matplotlib.legend:No artists with labels found to put in legend.  Note that artists whose label start with an underscore are ignored when legend() is called with no argument.\n"
          ]
        },
        {
          "output_type": "display_data",
          "data": {
            "text/plain": [
              "<Figure size 432x288 with 1 Axes>"
            ],
            "image/png": "[encoded data removed]"
          },
          "metadata": {
            "needs_background": "light"
          }
        }
      ]
    },
    {
      "cell_type": "markdown",
      "source": [
        "#Задание 2\n"
      ],
      "metadata": {
        "id": "huZ887ALfbMM"
      }
    },
    {
      "cell_type": "code",
      "source": [
        "import matplotlib.pyplot as plt\n",
        "import numpy as np\n",
        "from scipy.integrate import odeint\n",
        "#Определяем функцию, задающую значения параметрам ДУ, определяем вид ДУ\n",
        "def dydt(x,t):\n",
        "  return k(x)*x\n",
        "\n",
        "def k(x):\n",
        "  a=3\n",
        "  b=5\n",
        "  return a*x-b\n",
        "#Создаём область построения \n",
        "t = np.linspace(0,10,100)\n",
        "#Решаем ДУ c помощью функции solve\n",
        "solve = odeint(dydt, 1, t=t)\n",
        "solve = solve.flatten()\n",
        "#Строим математическую модель населения Земли\n",
        "%matplotlib inline\n",
        "\n",
        "plt.plot(t, solve, label = r\"\")\n",
        "plt.grid(True)\n",
        "plt.legend()\n",
        "plt.show()\n",
        "     \n"
      ],
      "metadata": {
        "colab": {
          "base_uri": "https://localhost:8080/",
          "height": 302
        },
        "id": "_cbio313fg5j",
        "outputId": "734fc8a6-be45-412e-ab0e-8c4018f3b048"
      },
      "execution_count": null,
      "outputs": [
        {
          "output_type": "stream",
          "name": "stderr",
          "text": [
            "WARNING:matplotlib.legend:No artists with labels found to put in legend.  Note that artists whose label start with an underscore are ignored when legend() is called with no argument.\n"
          ]
        },
        {
          "output_type": "display_data",
          "data": {
            "text/plain": [
              "<Figure size 432x288 with 1 Axes>"
            ],
            "image/png": "[encoded data removed]"
          },
          "metadata": {
            "needs_background": "light"
          }
        }
      ]
    },
    {
      "cell_type": "markdown",
      "source": [
        "#Задание 3"
      ],
      "metadata": {
        "id": "G99xFv2wf38p"
      }
    },
    {
      "cell_type": "code",
      "source": [
        "import matplotlib.pyplot as plt\n",
        "import numpy as np\n",
        "from scipy.integrate import odeint\n",
        "#Определяем функцию, задающую значения параметрам ДУ, определяем вид ДУ\n",
        "def dydt(x,t):\n",
        "  с=15\n",
        "  return k(x)*x-с\n",
        "\n",
        "def k(x):\n",
        "  a=3\n",
        "  b=5\n",
        "  return a*x-b\n",
        "#Создаём область построения\n",
        "t = np.linspace(0,10,100)\n",
        "#Решаем ДУ c помощью функции solve\n",
        "solve = odeint(dydt, 1, t=t)\n",
        "solve = solve.flatten()\n",
        "#Строим математическую модель населения Земли\n",
        "%matplotlib inline\n",
        "\n",
        "plt.plot(t, solve, label = r\"с\")\n",
        "plt.grid(True)\n",
        "plt.legend()\n",
        "plt.show()\n",
        "     \n"
      ],
      "metadata": {
        "colab": {
          "base_uri": "https://localhost:8080/",
          "height": 265
        },
        "id": "Fg0_yFNef8lg",
        "outputId": "c3ac7492-2425-43d0-ce30-bd213da92743"
      },
      "execution_count": null,
      "outputs": [
        {
          "output_type": "display_data",
          "data": {
            "text/plain": [
              "<Figure size 432x288 with 1 Axes>"
            ],
            "image/png": "[encoded data removed]"
          },
          "metadata": {
            "needs_background": "light"
          }
        }
      ]
    },
    {
      "cell_type": "markdown",
      "source": [
        "#Задание 4\n"
      ],
      "metadata": {
        "id": "qisnq_TjgTHd"
      }
    },
    {
      "cell_type": "code",
      "source": [
        "import matplotlib.pyplot as plt\n",
        "import numpy as np\n",
        "from scipy.integrate import odeint\n",
        "#Определяем функцию, задающую значения параметрам ДУ, определяем вид ДУ\n",
        "def k(x):\n",
        "  a=2\n",
        "  b=6\n",
        "  return a*x-b\n",
        "\n",
        "def c(x):\n",
        "  m=5\n",
        "  n=12\n",
        "  return m*x+n \n",
        "\n",
        "def dydt(x,t):\n",
        "  return k(x)*x - c(x)\n",
        "#Создаём область построения\n",
        "t = np.linspace(0,10,100)\n",
        "#Решаем ДУ c помощью функции solve\n",
        "solve = odeint(dydt, 1, t=t)\n",
        "solve = solve.flatten()\n",
        "#Строим математическую модель населения Земли\n",
        "%matplotlib inline\n",
        "\n",
        "plt.plot(t, solve, label = r\"с\")\n",
        "plt.grid(True)\n",
        "plt.legend()\n",
        "plt.show()\n",
        "     "
      ],
      "metadata": {
        "colab": {
          "base_uri": "https://localhost:8080/",
          "height": 265
        },
        "id": "xrzNAACWgi_b",
        "outputId": "4675dfe4-fa09-42e5-ce60-04e8d588fdd9"
      },
      "execution_count": null,
      "outputs": [
        {
          "output_type": "display_data",
          "data": {
            "text/plain": [
              "<Figure size 432x288 with 1 Axes>"
            ],
            "image/png": "[encoded data removed]"
          },
          "metadata": {
            "needs_background": "light"
          }
        }
      ]
    },
    {
      "cell_type": "markdown",
      "source": [],
      "metadata": {
        "id": "gdiGXvOpe9OQ"
      }
    }
  ]
}